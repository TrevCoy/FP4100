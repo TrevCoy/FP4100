{
 "cells": [
  {
   "cell_type": "markdown",
   "id": "2b3b59f9-5ab1-4c60-9cc7-24756324a1b8",
   "metadata": {},
   "source": [
    "**Basic Info**"
   ]
  },
  {
   "cell_type": "markdown",
   "id": "5335a69d-19d6-4c26-a68b-be4094d04acb",
   "metadata": {},
   "source": [
    "Project Title: Using Historical Weather Data to Forecast Precipitation and Comparing the Forecasted Values to Actual Values\n",
    "\n",
    "Names, uIDs, emails:\n",
    "\n",
    "Kylie Szilagyi, u1401567, u1401567@utah.edu\n",
    "Tanner Rima, u1244026, u1244026@utah.edu\n",
    "Trevor Coyle, u1315195, trevor.coyle@utah.edu"
   ]
  },
  {
   "cell_type": "markdown",
   "id": "5a53d43f-d416-4a14-a981-57b4fe273cc8",
   "metadata": {},
   "source": [
    "**Background and Motivation**"
   ]
  },
  {
   "cell_type": "markdown",
   "id": "2064b319-2d5c-4edc-b1c2-43b4ffbbd7bd",
   "metadata": {},
   "source": [
    "Our motivations for choosing this project come from our major. All three of us are Atmospheric Sciences majors, and we all have a passion for the weather. We were dead-set on doing a weather-related project and analyzing different weather factors, and their imapct on other factors. We chose precipitation because we can compare the forecasted values to gather values using resources that are at our disposal. Because we're all ATMOS students, we understand how to read and collect data from weather sites, as well as what impact these factors have. We wanted to choose a project that we have background in, so that we aren't analyzing data that we don't understand, nor care about. Precipitation is important to our department, becuase it has implications for climate, road conditions, flooding, and public safety. The Utah's ATMOS department also focuses on mountain meteorology, so by observing precipitation data, we can learn more about features in our state, such as the snowpack, and the chance of Spring flooding. We are all interested in completing a project that would have an actual imapct on our department, and potentially help us learn to forecast precipitation using machine learning or other data analytics. All three of us are currently in our third year in the ATMOS department, and have extensive backgrounds in weather, as well as forecasting. This project provides us with the opportunity to use Python and data analytics to better understand weather patterns in the Salt Lake area, and determine a model to forecast for precipitation based on those patterns. "
   ]
  },
  {
   "cell_type": "markdown",
   "id": "f88019a2-603c-4583-9f47-0a09fee2298c",
   "metadata": {},
   "source": [
    "**Project Objectives**"
   ]
  },
  {
   "cell_type": "markdown",
   "id": "3bc4bed3-f2b8-47e3-8373-c3ff3b61c745",
   "metadata": {},
   "source": [
    "The primary questions we are trying to answer include:\n",
    "\n",
    "What weather patterns have the greatest influence on precipitation?\n",
    "How can we use these weather patterns to forecast precipitation?\n",
    "Does our forecasted precipitation align with the actual precipitation?\n",
    "How well is does our model forecast the precipitation?\n",
    "\n",
    "We would like to learn more about which weather attributes have the greatest influence on precipitation. We would like to then use this knowledge to forecast the precipitation using historical data, and then compare that to the actual precipitation. This would teach us how to create a forecasting model based on the measured attributes, and could be used in the department to help undergraduates create forecasts. Additionally, we would understand the accuracy of our model and be able to determine if it's a worthwhile model to use. We want to compare the forecasts with the observed values, determine which values actually had the greatest impact on precipitation, and how that differed from our model. We will leanr how to create a model and forecast using that model, which is common in the field. This would give us the opportunity to create a worthwhile product. Additionally, we will learn how to analyze the accuracy of our model, when we compare our forecasted values to the measured values, so we can determine if our model is accurate. This gives us a chance to also learn how to use and apply different statistical models and analysis.\n",
    "\n",
    "Another valuable piece of information that we'll gain from this project is understanding which measured weather attributes have the greatest effect on precipitation. This project provides us with a model that should reasonably weight the different atmospheric factors based on importance in order to forecast precipitation. From this, we can better understand which factors have the largest role on where, when, and how much precipitation falls. This is important for us, because in our future careers, this is basic information that will provide us with a stronger meteorology background. "
   ]
  },
  {
   "cell_type": "markdown",
   "id": "50bd2514-35a8-4406-8576-9b29a8629ee4",
   "metadata": {},
   "source": [
    "**Data Desciption and Acquisition**"
   ]
  },
  {
   "cell_type": "markdown",
   "id": "0cc3a28b-c226-429e-9687-e229ac767d29",
   "metadata": {},
   "source": [
    "Our data is\n",
    "\n",
    "https://openweathermap.org/api "
   ]
  },
  {
   "cell_type": "markdown",
   "id": "beb8c81b-1cf3-46f4-b663-14f1841c6c01",
   "metadata": {},
   "source": [
    "**Ethical Considerations**"
   ]
  },
  {
   "cell_type": "markdown",
   "id": "98f368c7-dd52-4e7e-bcae-7f35dbefa926",
   "metadata": {},
   "source": [
    "The entire meteorology community could be affected by our project, or more notably, the meterology community in SLC. Because we are going to be using data collected in SLC and forecasting the precipitation for SLC, and then creating a decision tree and a model based on those values, the output will be tailored to the specific patterns in our area. This could be a very valuable tool for other students in our department, as it could allow them to learn how to forecast precipitation. This is currently lacking in the ATMOS department, and many students want to learn, so this project could be valuable to them, and to faculty and other undergraduates who want to teach forecasting as well. The model could provide a flow chart for students to better udnerstand how precipitation is forecasted, which would teach them the basics of precipitation and how precipitation is formed. \n",
    "\n",
    "On the flip side, this project could have negative impacts, mostly if we perform it incorrectly. If we start showing our project off and trying to teach people, and we're analyzing the variables incorrectly, we are going to teach people the wrong things. We'll also learn the wrong things, which would have an overall negative impact. Additionally, this project could be used for harm if people think they can try and artifically change atmospheric variables to influence precipitation. Cloud seeding, and people trying to do this, would be a major concern. Cloud seeding and its ethical concerns are already discussed, and with a more concise model of how precipitation is affected by certain atmospheric factors, people could try and use this project to influence the clouds, and therefore precipitation. This would be very negative, as messing with the weather is simply a dangerous idea, and doesn't have positive impacts on society. "
   ]
  },
  {
   "cell_type": "markdown",
   "id": "716e32f2-bea7-4f5a-aa14-5491e6a9ee53",
   "metadata": {},
   "source": [
    "**Data Cleaning and Processing**"
   ]
  },
  {
   "cell_type": "markdown",
   "id": "f025080e-f420-4eeb-8d6e-10c47bb3f75a",
   "metadata": {},
   "source": []
  },
  {
   "cell_type": "markdown",
   "id": "135e7311-e169-4e59-b01f-2dd4978949f7",
   "metadata": {},
   "source": [
    "**Exploratory Analysis**"
   ]
  },
  {
   "cell_type": "markdown",
   "id": "717a421e-f628-4008-8a1a-35a6f45e933f",
   "metadata": {},
   "source": [
    "We can visualize the data and the impact of variables on precipitation using a correlation coefficient and a heatmap. This method would be a great starting point for our analysis, as it would give us a baseline of what would be important to anlyze further. Another way we could visualize our data is to create line charts. This is very common in the meteorology field, and can describe what the change in variables looks like over time. This would be beneficial when plotted against precipitation, because we could visualize which changes in which variables led to the precipitation. \n",
    "\n",
    "After we create our model and analyze the data, we will also want to visualize the results and check its accuracy. To do this, we could plot the actual precipitation and the forecasted precipitation, to see the visual comparison between the outcomes."
   ]
  },
  {
   "cell_type": "markdown",
   "id": "6445d835-8a05-4812-994b-048cf2418587",
   "metadata": {},
   "source": [
    "**Analysis Methodology**"
   ]
  },
  {
   "cell_type": "markdown",
   "id": "78cbd46e-c9e8-48bf-9f3d-9a221ad12e95",
   "metadata": {},
   "source": [
    "We can use linear regression models to determine which variables have an impact on precipitation. We can create different models to test which variables have the greatest impact on precipitation. Using the correlation heatmap from our exploratory studies, we could determine the variables we need to put into the linear regression model. \n",
    "\n",
    "To create the model that will help us forecast precipitation, we can use decision trees. This decision tree would be put together using the historical data from past forecasts, and the models, such as the linear regression model, that we've already created. Then we could use the decision tree to forecast whether or not there would be precipitation. Additionally, we could use kkN to determine the overlap of the varaiable, and analyze the confusion matrix. This would allow us to train the model, and then test it, to determine which variables truly have the greatest impact. This would heopfully lead to a model that can forecast precipitation accurately based on the environmental factors.\n",
    "\n",
    "To analyze the accuracy of our model, we could model the difference between the actual precipitation and the forecasted precipitation, we could determine the deviance between the two. If we determine deviance for multiple days of data, we could plot the deviance across multiple days of data dn determine the overall average error. This would allow us to analyze whether or not our model was effective. We could perfrom some of this analysis using standard deviation formulas.\n",
    "\n",
    "We hope to calculate which variables have the greatest impact on precipitation, just based on the models. From this, we want to determine if our model is accurate when compared to actual precipitation, so we will be analyzing the variables first, and then analyzing the accuracy of our model afterwards. "
   ]
  },
  {
   "cell_type": "markdown",
   "id": "9eff95a6-a79c-4dd8-bdc9-c31cf8109872",
   "metadata": {},
   "source": [
    "**Project Schedule**"
   ]
  },
  {
   "cell_type": "markdown",
   "id": "0801f176-cceb-4b03-bc90-0539d3ea1f6b",
   "metadata": {},
   "source": [
    "Proposal: March 7\n",
    "\n",
    "Spring Break: March 10-14th\n",
    "\n",
    "Peer Feedback: March 20\n",
    "\n",
    "First Milestone: March 28\n",
    "\n",
    "    Data aquired, cleaned, and explored\n",
    "    More detail about final analysis\n",
    "    Updated project schedule\n",
    "    \n",
    "Final Project Report: April 18\n",
    "\n",
    "    Complete analysis\n",
    "    Present results\n",
    "    Screencast\n",
    "\n",
    "Week of 03/03:\n",
    "    Start collecting data using the API key, so we have a dataset that's large enough to work with. Finish writing the proposal and make sure we know what the overall plan is.\n",
    "    \n",
    "Week of 03/10:\n",
    "    Spring break. Aquire data.\n",
    "    \n",
    "Week of 03/17:\n",
    "    Clean the data and run preliminary analysis. Explore the data and begin the visualization process. Start drawing conections with the data and understand how each meteorological attribute affects precipitation. Explore the data using the visualizations and methods listed above.\n",
    "    \n",
    "Week of 03/24:\n",
    "    Work on the submission for the milestone. Clean up any stray code, plan out the final analysis steps, and rewrite the project schedule.\n",
    "    \n",
    "Week of 03/31: \n",
    "    Work through the analysis. Write the code and create visualizations.\n",
    "    \n",
    "Week of 04/07:\n",
    "    Analyze the data and fully understand what it means. Now is a good time to compare our forecatsed precipitation to the actual precipitation and visualize it.\n",
    "    \n",
    "Week of 04/14:\n",
    "    Record the screencast."
   ]
  }
 ],
 "metadata": {
  "kernelspec": {
   "display_name": "Python 3 (ipykernel)",
   "language": "python",
   "name": "python3"
  },
  "language_info": {
   "codemirror_mode": {
    "name": "ipython",
    "version": 3
   },
   "file_extension": ".py",
   "mimetype": "text/x-python",
   "name": "python",
   "nbconvert_exporter": "python",
   "pygments_lexer": "ipython3",
   "version": "3.12.7"
  }
 },
 "nbformat": 4,
 "nbformat_minor": 5
}
